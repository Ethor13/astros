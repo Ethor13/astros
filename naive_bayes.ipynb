{
 "cells": [
  {
   "cell_type": "code",
   "execution_count": 303,
   "metadata": {},
   "outputs": [],
   "source": [
    "import pandas as pd\n",
    "import numpy as np\n",
    "from sklearn.naive_bayes import CategoricalNB\n",
    "\n",
    "pd.set_option('display.max_columns', None)"
   ]
  },
  {
   "cell_type": "code",
   "execution_count": 262,
   "metadata": {},
   "outputs": [],
   "source": [
    "df = pd.read_csv('reg_season_statcast_bangs.csv')\n",
    "playoff_df = pd.read_csv('post_season_statcast.csv')"
   ]
  },
  {
   "cell_type": "code",
   "execution_count": 263,
   "metadata": {},
   "outputs": [],
   "source": [
    "playoff_df['bangs'] = 2"
   ]
  },
  {
   "cell_type": "code",
   "execution_count": 264,
   "metadata": {},
   "outputs": [],
   "source": [
    "df = pd.concat([df, playoff_df]).reset_index(drop=True)"
   ]
  },
  {
   "cell_type": "code",
   "execution_count": 265,
   "metadata": {},
   "outputs": [],
   "source": [
    "df.loc[:,'score_diff'] = df.home_score - df.away_score\n",
    "df.drop(['home_score', 'away_score'], axis=1, inplace=True)"
   ]
  },
  {
   "cell_type": "code",
   "execution_count": 266,
   "metadata": {},
   "outputs": [
    {
     "name": "stdout",
     "output_type": "stream",
     "text": [
      "<class 'pandas.core.frame.DataFrame'>\n",
      "RangeIndex: 9567 entries, 0 to 9566\n",
      "Data columns (total 92 columns):\n",
      " #   Column                           Non-Null Count  Dtype  \n",
      "---  ------                           --------------  -----  \n",
      " 0   pitch_type                       9531 non-null   object \n",
      " 1   game_date                        9567 non-null   object \n",
      " 2   release_speed                    9531 non-null   float64\n",
      " 3   release_pos_x                    9531 non-null   float64\n",
      " 4   release_pos_z                    9531 non-null   float64\n",
      " 5   player_name                      9567 non-null   object \n",
      " 6   batter                           9567 non-null   int64  \n",
      " 7   pitcher                          9567 non-null   int64  \n",
      " 8   events                           2475 non-null   object \n",
      " 9   description                      9567 non-null   object \n",
      " 10  spin_dir                         0 non-null      float64\n",
      " 11  spin_rate_deprecated             0 non-null      float64\n",
      " 12  break_angle_deprecated           0 non-null      float64\n",
      " 13  break_length_deprecated          0 non-null      float64\n",
      " 14  zone                             9531 non-null   float64\n",
      " 15  des                              9567 non-null   object \n",
      " 16  game_type                        9567 non-null   object \n",
      " 17  stand                            9567 non-null   object \n",
      " 18  p_throws                         9567 non-null   object \n",
      " 19  home_team                        9567 non-null   object \n",
      " 20  away_team                        9567 non-null   object \n",
      " 21  type                             9567 non-null   object \n",
      " 22  hit_location                     2154 non-null   float64\n",
      " 23  bb_type                          1832 non-null   object \n",
      " 24  balls                            9567 non-null   int64  \n",
      " 25  strikes                          9567 non-null   int64  \n",
      " 26  game_year                        9567 non-null   int64  \n",
      " 27  pfx_x                            9531 non-null   float64\n",
      " 28  pfx_z                            9531 non-null   float64\n",
      " 29  plate_x                          9531 non-null   float64\n",
      " 30  plate_z                          9531 non-null   float64\n",
      " 31  on_3b                            876 non-null    float64\n",
      " 32  on_2b                            1861 non-null   float64\n",
      " 33  on_1b                            2798 non-null   float64\n",
      " 34  outs_when_up                     9567 non-null   int64  \n",
      " 35  inning                           9567 non-null   int64  \n",
      " 36  inning_topbot                    9567 non-null   object \n",
      " 37  hc_x                             1739 non-null   float64\n",
      " 38  hc_y                             1739 non-null   float64\n",
      " 39  tfs_deprecated                   0 non-null      float64\n",
      " 40  tfs_zulu_deprecated              0 non-null      float64\n",
      " 41  fielder_2                        9567 non-null   int64  \n",
      " 42  umpire                           0 non-null      float64\n",
      " 43  sv_id                            0 non-null      float64\n",
      " 44  vx0                              9531 non-null   float64\n",
      " 45  vy0                              9531 non-null   float64\n",
      " 46  vz0                              9531 non-null   float64\n",
      " 47  ax                               9531 non-null   float64\n",
      " 48  ay                               9531 non-null   float64\n",
      " 49  az                               9531 non-null   float64\n",
      " 50  sz_top                           9531 non-null   float64\n",
      " 51  sz_bot                           9531 non-null   float64\n",
      " 52  hit_distance_sc                  2474 non-null   float64\n",
      " 53  launch_speed                     2692 non-null   float64\n",
      " 54  launch_angle                     2692 non-null   float64\n",
      " 55  effective_speed                  9433 non-null   float64\n",
      " 56  release_spin_rate                9380 non-null   float64\n",
      " 57  release_extension                9531 non-null   float64\n",
      " 58  game_pk                          9567 non-null   int64  \n",
      " 59  pitcher.1                        9567 non-null   int64  \n",
      " 60  fielder_2.1                      9567 non-null   int64  \n",
      " 61  fielder_3                        9567 non-null   int64  \n",
      " 62  fielder_4                        9567 non-null   int64  \n",
      " 63  fielder_5                        9567 non-null   int64  \n",
      " 64  fielder_6                        9567 non-null   int64  \n",
      " 65  fielder_7                        9567 non-null   int64  \n",
      " 66  fielder_8                        9567 non-null   int64  \n",
      " 67  fielder_9                        9567 non-null   int64  \n",
      " 68  release_pos_y                    9531 non-null   float64\n",
      " 69  estimated_ba_using_speedangle    1810 non-null   float64\n",
      " 70  estimated_woba_using_speedangle  1810 non-null   float64\n",
      " 71  woba_value                       2475 non-null   float64\n",
      " 72  woba_denom                       2453 non-null   float64\n",
      " 73  babip_value                      2475 non-null   float64\n",
      " 74  iso_value                        2475 non-null   float64\n",
      " 75  launch_speed_angle               1810 non-null   float64\n",
      " 76  at_bat_number                    9567 non-null   int64  \n",
      " 77  pitch_number                     9567 non-null   int64  \n",
      " 78  pitch_name                       9531 non-null   object \n",
      " 79  bat_score                        9567 non-null   int64  \n",
      " 80  fld_score                        9567 non-null   int64  \n",
      " 81  post_away_score                  9567 non-null   int64  \n",
      " 82  post_home_score                  9567 non-null   int64  \n",
      " 83  post_bat_score                   9567 non-null   int64  \n",
      " 84  post_fld_score                   9567 non-null   int64  \n",
      " 85  if_fielding_alignment            9521 non-null   object \n",
      " 86  of_fielding_alignment            9521 non-null   object \n",
      " 87  spin_axis                        9531 non-null   float64\n",
      " 88  delta_home_win_exp               9567 non-null   float64\n",
      " 89  delta_run_exp                    9566 non-null   float64\n",
      " 90  bangs                            2435 non-null   object \n",
      " 91  score_diff                       9567 non-null   int64  \n",
      "dtypes: float64(47), int64(27), object(18)\n",
      "memory usage: 6.7+ MB\n"
     ]
    }
   ],
   "source": [
    "df.info()"
   ]
  },
  {
   "cell_type": "code",
   "execution_count": 361,
   "metadata": {},
   "outputs": [],
   "source": [
    "# nulls = df.isna().sum()\n",
    "# keep_cols = nulls[nulls < 200].index\n",
    "# keep_cols = ['pitch_type', 'release_speed', 'batter', 'description',\n",
    "\n",
    "#        'zone', 'stand', 'p_throws', 'type', 'balls', 'strikes',\n",
    "#        'outs_when_up', 'inning', 'effective_speed', 'release_spin_rate', \n",
    "#        'release_extension', 'at_bat_number', 'pitch_number', 'home_score',\n",
    "#        'away_score', 'spin_axis', 'delta_home_win_exp', 'delta_run_exp']\n",
    "cols = ['pitch_type', 'batter', 'stand', 'p_throws', 'balls', 'strikes',\n",
    "       'outs_when_up', 'inning', 'pitch_number', 'score_diff', 'delta_home_win_exp',\n",
    "       'delta_run_exp', 'bangs']\n",
    "non_feature_cols = ['delta_home_win_exp', 'delta_run_exp', 'bangs']"
   ]
  },
  {
   "cell_type": "code",
   "execution_count": 351,
   "metadata": {},
   "outputs": [],
   "source": [
    "small_df = df[cols].copy()"
   ]
  },
  {
   "cell_type": "code",
   "execution_count": 358,
   "metadata": {},
   "outputs": [],
   "source": [
    "small_df['bangs'].fillna(0, inplace=True)\n",
    "small_df.loc[(small_df['bangs'] != 0) & (small_df['bangs'] != 2), 'bangs'] = 1"
   ]
  },
  {
   "cell_type": "code",
   "execution_count": 359,
   "metadata": {},
   "outputs": [],
   "source": [
    "small_df = small_df[small_df.isna().sum(axis=1) == 0].reset_index(drop=True)"
   ]
  },
  {
   "cell_type": "code",
   "execution_count": 360,
   "metadata": {},
   "outputs": [
    {
     "data": {
      "text/html": [
       "<div>\n",
       "<style scoped>\n",
       "    .dataframe tbody tr th:only-of-type {\n",
       "        vertical-align: middle;\n",
       "    }\n",
       "\n",
       "    .dataframe tbody tr th {\n",
       "        vertical-align: top;\n",
       "    }\n",
       "\n",
       "    .dataframe thead th {\n",
       "        text-align: right;\n",
       "    }\n",
       "</style>\n",
       "<table border=\"1\" class=\"dataframe\">\n",
       "  <thead>\n",
       "    <tr style=\"text-align: right;\">\n",
       "      <th></th>\n",
       "      <th>pitch_type</th>\n",
       "      <th>batter</th>\n",
       "      <th>stand</th>\n",
       "      <th>p_throws</th>\n",
       "      <th>balls</th>\n",
       "      <th>strikes</th>\n",
       "      <th>outs_when_up</th>\n",
       "      <th>inning</th>\n",
       "      <th>pitch_number</th>\n",
       "      <th>score_diff</th>\n",
       "      <th>delta_home_win_exp</th>\n",
       "      <th>delta_run_exp</th>\n",
       "      <th>bangs</th>\n",
       "    </tr>\n",
       "  </thead>\n",
       "  <tbody>\n",
       "    <tr>\n",
       "      <th>0</th>\n",
       "      <td>SI</td>\n",
       "      <td>543807</td>\n",
       "      <td>R</td>\n",
       "      <td>R</td>\n",
       "      <td>0</td>\n",
       "      <td>0</td>\n",
       "      <td>0</td>\n",
       "      <td>1</td>\n",
       "      <td>1</td>\n",
       "      <td>0</td>\n",
       "      <td>0.000</td>\n",
       "      <td>0.036</td>\n",
       "      <td>0</td>\n",
       "    </tr>\n",
       "    <tr>\n",
       "      <th>1</th>\n",
       "      <td>SI</td>\n",
       "      <td>543807</td>\n",
       "      <td>R</td>\n",
       "      <td>R</td>\n",
       "      <td>1</td>\n",
       "      <td>0</td>\n",
       "      <td>0</td>\n",
       "      <td>1</td>\n",
       "      <td>2</td>\n",
       "      <td>0</td>\n",
       "      <td>0.000</td>\n",
       "      <td>-0.046</td>\n",
       "      <td>0</td>\n",
       "    </tr>\n",
       "    <tr>\n",
       "      <th>2</th>\n",
       "      <td>SL</td>\n",
       "      <td>543807</td>\n",
       "      <td>R</td>\n",
       "      <td>R</td>\n",
       "      <td>1</td>\n",
       "      <td>1</td>\n",
       "      <td>0</td>\n",
       "      <td>1</td>\n",
       "      <td>3</td>\n",
       "      <td>0</td>\n",
       "      <td>0.000</td>\n",
       "      <td>0.050</td>\n",
       "      <td>0</td>\n",
       "    </tr>\n",
       "    <tr>\n",
       "      <th>3</th>\n",
       "      <td>SI</td>\n",
       "      <td>543807</td>\n",
       "      <td>R</td>\n",
       "      <td>R</td>\n",
       "      <td>2</td>\n",
       "      <td>1</td>\n",
       "      <td>0</td>\n",
       "      <td>1</td>\n",
       "      <td>4</td>\n",
       "      <td>0</td>\n",
       "      <td>0.102</td>\n",
       "      <td>0.960</td>\n",
       "      <td>0</td>\n",
       "    </tr>\n",
       "    <tr>\n",
       "      <th>4</th>\n",
       "      <td>FF</td>\n",
       "      <td>608324</td>\n",
       "      <td>R</td>\n",
       "      <td>R</td>\n",
       "      <td>0</td>\n",
       "      <td>0</td>\n",
       "      <td>0</td>\n",
       "      <td>1</td>\n",
       "      <td>1</td>\n",
       "      <td>1</td>\n",
       "      <td>0.030</td>\n",
       "      <td>0.387</td>\n",
       "      <td>0</td>\n",
       "    </tr>\n",
       "  </tbody>\n",
       "</table>\n",
       "</div>"
      ],
      "text/plain": [
       "  pitch_type  batter stand p_throws  balls  strikes  outs_when_up  inning  \\\n",
       "0         SI  543807     R        R      0        0             0       1   \n",
       "1         SI  543807     R        R      1        0             0       1   \n",
       "2         SL  543807     R        R      1        1             0       1   \n",
       "3         SI  543807     R        R      2        1             0       1   \n",
       "4         FF  608324     R        R      0        0             0       1   \n",
       "\n",
       "   pitch_number  score_diff  delta_home_win_exp  delta_run_exp  bangs  \n",
       "0             1           0               0.000          0.036      0  \n",
       "1             2           0               0.000         -0.046      0  \n",
       "2             3           0               0.000          0.050      0  \n",
       "3             4           0               0.102          0.960      0  \n",
       "4             1           1               0.030          0.387      0  "
      ]
     },
     "execution_count": 360,
     "metadata": {},
     "output_type": "execute_result"
    }
   ],
   "source": [
    "small_df.head()"
   ]
  },
  {
   "cell_type": "code",
   "execution_count": 362,
   "metadata": {},
   "outputs": [],
   "source": [
    "cat_df = small_df.copy()\n",
    "for col in cat_df.columns:\n",
    "    if col not in non_feature_cols:\n",
    "        cat_df[col] = cat_df[col].astype('category').cat.codes"
   ]
  },
  {
   "cell_type": "code",
   "execution_count": 363,
   "metadata": {},
   "outputs": [],
   "source": [
    "train_mask = cat_df.bangs != 2"
   ]
  },
  {
   "cell_type": "code",
   "execution_count": 365,
   "metadata": {},
   "outputs": [],
   "source": [
    "x_train = cat_df[train_mask].copy().drop(non_feature_cols, axis=1)\n",
    "x_test = cat_df[~train_mask].copy().drop(non_feature_cols, axis=1)\n",
    "\n",
    "y_train = cat_df.loc[train_mask, 'bangs']\n",
    "y_train = y_train.astype('category').cat.codes"
   ]
  },
  {
   "cell_type": "code",
   "execution_count": 366,
   "metadata": {},
   "outputs": [],
   "source": [
    "clf = CategoricalNB()"
   ]
  },
  {
   "cell_type": "code",
   "execution_count": 367,
   "metadata": {},
   "outputs": [
    {
     "data": {
      "text/plain": [
       "CategoricalNB()"
      ]
     },
     "execution_count": 367,
     "metadata": {},
     "output_type": "execute_result"
    }
   ],
   "source": [
    "clf.fit(x_train, y_train)"
   ]
  },
  {
   "cell_type": "code",
   "execution_count": 368,
   "metadata": {},
   "outputs": [
    {
     "data": {
      "text/plain": [
       "array([[0.98652432, 0.01347568]])"
      ]
     },
     "execution_count": 368,
     "metadata": {},
     "output_type": "execute_result"
    }
   ],
   "source": [
    "clf.predict(x_train.loc[[0]])\n",
    "clf.predict_proba(x_train.loc[[0]])"
   ]
  },
  {
   "cell_type": "code",
   "execution_count": 390,
   "metadata": {},
   "outputs": [],
   "source": [
    "bang_preds = clf.predict(x_test)\n",
    "bang_probability = clf.predict_proba(x_test)\n",
    "bang_probability = pd.Series(list(map(lambda x: x[1], bang_probability)), name='bang_probability')"
   ]
  },
  {
   "cell_type": "code",
   "execution_count": 401,
   "metadata": {},
   "outputs": [],
   "source": [
    "test_deltas = small_df.loc[~train_mask, ['delta_home_win_exp', 'delta_run_exp']].reset_index(drop=True)"
   ]
  },
  {
   "cell_type": "code",
   "execution_count": 413,
   "metadata": {},
   "outputs": [],
   "source": [
    "res = small_df.loc[~train_mask, ['delta_home_win_exp', 'delta_run_exp']].reset_index(drop=True)\n",
    "res['bang_probability'] = bang_probability\n",
    "res['exp_delta_win_exp'] = res['bang_probability'] * res['delta_home_win_exp']\n",
    "res['exp_delta_runs'] = res['bang_probability'] * res['delta_run_exp']"
   ]
  },
  {
   "cell_type": "code",
   "execution_count": 416,
   "metadata": {},
   "outputs": [
    {
     "data": {
      "text/plain": [
       "1.7475203186777697"
      ]
     },
     "execution_count": 416,
     "metadata": {},
     "output_type": "execute_result"
    }
   ],
   "source": [
    "res.exp_delta_runs.sum()"
   ]
  },
  {
   "cell_type": "code",
   "execution_count": 417,
   "metadata": {},
   "outputs": [
    {
     "data": {
      "text/plain": [
       "0.2635107842797165"
      ]
     },
     "execution_count": 417,
     "metadata": {},
     "output_type": "execute_result"
    }
   ],
   "source": [
    "res.exp_delta_win_exp.sum()"
   ]
  },
  {
   "cell_type": "code",
   "execution_count": null,
   "metadata": {},
   "outputs": [],
   "source": []
  }
 ],
 "metadata": {
  "interpreter": {
   "hash": "0600588c3b5f4418cbe7b5ebc6825b479f3bc010269d8b60d75058cdd010adfe"
  },
  "kernelspec": {
   "display_name": "Python 3.7.4 64-bit",
   "language": "python",
   "name": "python3"
  },
  "language_info": {
   "codemirror_mode": {
    "name": "ipython",
    "version": 3
   },
   "file_extension": ".py",
   "mimetype": "text/x-python",
   "name": "python",
   "nbconvert_exporter": "python",
   "pygments_lexer": "ipython3",
   "version": "3.7.4"
  },
  "orig_nbformat": 4
 },
 "nbformat": 4,
 "nbformat_minor": 2
}
