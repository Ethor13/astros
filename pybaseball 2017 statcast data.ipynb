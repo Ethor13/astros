{
 "cells": [
  {
   "cell_type": "code",
   "execution_count": 1,
   "id": "486b01f8",
   "metadata": {},
   "outputs": [],
   "source": [
    "import pybaseball\n",
    "from pybaseball import statcast as sc\n",
    "import pandas as pd\n",
    "import numpy as np"
   ]
  },
  {
   "cell_type": "code",
   "execution_count": 2,
   "id": "849b2933",
   "metadata": {},
   "outputs": [],
   "source": [
    "#sc?"
   ]
  },
  {
   "cell_type": "markdown",
   "id": "2149e151",
   "metadata": {},
   "source": [
    "Enable the cache because we are querying a lot of data, and making sure we can see every column of a large dataframe when we call df.head()"
   ]
  },
  {
   "cell_type": "code",
   "execution_count": 3,
   "id": "e51d0211",
   "metadata": {},
   "outputs": [],
   "source": [
    "pybaseball.cache.enable()\n",
    "pd.set_option('display.max_columns', None)"
   ]
  },
  {
   "cell_type": "markdown",
   "id": "c44b54eb",
   "metadata": {},
   "source": [
    "Querying all statcast data from the range of games including all astros home games in 2017 (also all other games in that span)"
   ]
  },
  {
   "cell_type": "code",
   "execution_count": 7,
   "id": "885b515f",
   "metadata": {},
   "outputs": [
    {
     "name": "stdout",
     "output_type": "stream",
     "text": [
      "This is a large query, it may take a moment to complete\n"
     ]
    },
    {
     "name": "stderr",
     "output_type": "stream",
     "text": [
      "100%|██████████| 213/213 [00:14<00:00, 14.57it/s]\n"
     ]
    }
   ],
   "source": [
    "data = sc(start_dt = '2017-4-3', end_dt = '2017-11-01')"
   ]
  },
  {
   "cell_type": "code",
   "execution_count": 8,
   "id": "65ef9dc0",
   "metadata": {},
   "outputs": [
    {
     "data": {
      "text/plain": [
       "(731564, 92)"
      ]
     },
     "execution_count": 8,
     "metadata": {},
     "output_type": "execute_result"
    }
   ],
   "source": [
    "data.shape"
   ]
  },
  {
   "cell_type": "markdown",
   "id": "95b66500",
   "metadata": {},
   "source": [
    "Subset so we only have Astros at-bats left"
   ]
  },
  {
   "cell_type": "code",
   "execution_count": 9,
   "id": "c0ee782b",
   "metadata": {},
   "outputs": [],
   "source": [
    "data = data[(data['home_team'] == 'HOU') & (data['inning_topbot'] == 'Bot')]"
   ]
  },
  {
   "cell_type": "code",
   "execution_count": 10,
   "id": "10da0cec",
   "metadata": {},
   "outputs": [
    {
     "data": {
      "text/plain": [
       "(12771, 92)"
      ]
     },
     "execution_count": 10,
     "metadata": {},
     "output_type": "execute_result"
    }
   ],
   "source": [
    "data.shape"
   ]
  },
  {
   "cell_type": "code",
   "execution_count": 14,
   "id": "9e02f1f4",
   "metadata": {},
   "outputs": [
    {
     "data": {
      "text/plain": [
       "Index(['pitch_type', 'game_date', 'release_speed', 'release_pos_x',\n",
       "       'release_pos_z', 'player_name', 'batter', 'pitcher', 'events',\n",
       "       'description', 'spin_dir', 'spin_rate_deprecated',\n",
       "       'break_angle_deprecated', 'break_length_deprecated', 'zone', 'des',\n",
       "       'game_type', 'stand', 'p_throws', 'home_team', 'away_team', 'type',\n",
       "       'hit_location', 'bb_type', 'balls', 'strikes', 'game_year', 'pfx_x',\n",
       "       'pfx_z', 'plate_x', 'plate_z', 'on_3b', 'on_2b', 'on_1b',\n",
       "       'outs_when_up', 'inning', 'inning_topbot', 'hc_x', 'hc_y',\n",
       "       'tfs_deprecated', 'tfs_zulu_deprecated', 'fielder_2', 'umpire', 'sv_id',\n",
       "       'vx0', 'vy0', 'vz0', 'ax', 'ay', 'az', 'sz_top', 'sz_bot',\n",
       "       'hit_distance_sc', 'launch_speed', 'launch_angle', 'effective_speed',\n",
       "       'release_spin_rate', 'release_extension', 'game_pk', 'pitcher.1',\n",
       "       'fielder_2.1', 'fielder_3', 'fielder_4', 'fielder_5', 'fielder_6',\n",
       "       'fielder_7', 'fielder_8', 'fielder_9', 'release_pos_y',\n",
       "       'estimated_ba_using_speedangle', 'estimated_woba_using_speedangle',\n",
       "       'woba_value', 'woba_denom', 'babip_value', 'iso_value',\n",
       "       'launch_speed_angle', 'at_bat_number', 'pitch_number', 'pitch_name',\n",
       "       'home_score', 'away_score', 'bat_score', 'fld_score', 'post_away_score',\n",
       "       'post_home_score', 'post_bat_score', 'post_fld_score',\n",
       "       'if_fielding_alignment', 'of_fielding_alignment', 'spin_axis',\n",
       "       'delta_home_win_exp', 'delta_run_exp'],\n",
       "      dtype='object')"
      ]
     },
     "execution_count": 14,
     "metadata": {},
     "output_type": "execute_result"
    }
   ],
   "source": [
    "data.columns"
   ]
  },
  {
   "cell_type": "markdown",
   "id": "4f9af694",
   "metadata": {},
   "source": [
    "Next we take the first game of the Astros season, their home opener which has game_pk 490111"
   ]
  },
  {
   "cell_type": "code",
   "execution_count": 7,
   "id": "a88e8998",
   "metadata": {},
   "outputs": [],
   "source": [
    "# game_pk_490111 = data[data['game_pk'] == 490111]"
   ]
  },
  {
   "cell_type": "code",
   "execution_count": 8,
   "id": "362d6575",
   "metadata": {
    "scrolled": false
   },
   "outputs": [
    {
     "data": {
      "text/plain": [
       "(104, 92)"
      ]
     },
     "execution_count": 8,
     "metadata": {},
     "output_type": "execute_result"
    }
   ],
   "source": [
    "# game_pk_490111.shape"
   ]
  },
  {
   "cell_type": "markdown",
   "id": "96cd58b5",
   "metadata": {},
   "source": [
    "Just looking at Astros at-bats"
   ]
  },
  {
   "cell_type": "markdown",
   "id": "1372acdf",
   "metadata": {},
   "source": [
    "sorting from the beginning to the end of the game by at_bat_number and pitch number, so the order in which they are presented is the order in which they happened"
   ]
  },
  {
   "cell_type": "code",
   "execution_count": 15,
   "id": "a1a7ecd2",
   "metadata": {},
   "outputs": [],
   "source": [
    "# game_pk_490111 = game_pk_490111.sort_values(['at_bat_number', 'pitch_number'],ascending = [True, True])\n",
    "data = data.sort_values(['game_date', 'at_bat_number', 'pitch_number'],ascending = [True, True, True])"
   ]
  },
  {
   "cell_type": "markdown",
   "id": "8c586bf0",
   "metadata": {},
   "source": [
    "We want player_name to be the name of the batter, not the pitcher. To fix this, I pulled every player_id from every Astros at-bat from data, and used playerid_reverse_lookup to get their names. I formatted them to match the player_name formatting, and added the column to game_pk_490111 as a test"
   ]
  },
  {
   "cell_type": "code",
   "execution_count": 17,
   "id": "e5491e1a",
   "metadata": {
    "scrolled": false
   },
   "outputs": [
    {
     "name": "stdout",
     "output_type": "stream",
     "text": [
      "Gathering player lookup table. This may take a moment.\n"
     ]
    }
   ],
   "source": [
    "from pybaseball import playerid_reverse_lookup\n",
    "\n",
    "player_ids = data['batter'].tolist()\n",
    "\n",
    "# find the names of the players in player_ids, along with their ids from other data sources\n",
    "names = playerid_reverse_lookup(player_ids, key_type='mlbam')[['name_last','name_first','key_mlbam']]\n",
    "names['player_name'] = (names['name_last'].str.capitalize() + ', ' + names['name_first'].str.capitalize())\n",
    "names = names.drop(['name_last', 'name_first'], axis = 1)"
   ]
  },
  {
   "cell_type": "code",
   "execution_count": 18,
   "id": "458c71b4",
   "metadata": {},
   "outputs": [
    {
     "data": {
      "text/html": [
       "<div>\n",
       "<style scoped>\n",
       "    .dataframe tbody tr th:only-of-type {\n",
       "        vertical-align: middle;\n",
       "    }\n",
       "\n",
       "    .dataframe tbody tr th {\n",
       "        vertical-align: top;\n",
       "    }\n",
       "\n",
       "    .dataframe thead th {\n",
       "        text-align: right;\n",
       "    }\n",
       "</style>\n",
       "<table border=\"1\" class=\"dataframe\">\n",
       "  <thead>\n",
       "    <tr style=\"text-align: right;\">\n",
       "      <th></th>\n",
       "      <th>key_mlbam</th>\n",
       "      <th>player_name</th>\n",
       "    </tr>\n",
       "  </thead>\n",
       "  <tbody>\n",
       "    <tr>\n",
       "      <th>0</th>\n",
       "      <td>514888</td>\n",
       "      <td>Altuve, Jose</td>\n",
       "    </tr>\n",
       "    <tr>\n",
       "      <th>1</th>\n",
       "      <td>493114</td>\n",
       "      <td>Aoki, Nori</td>\n",
       "    </tr>\n",
       "    <tr>\n",
       "      <th>2</th>\n",
       "      <td>136860</td>\n",
       "      <td>Beltran, Carlos</td>\n",
       "    </tr>\n",
       "    <tr>\n",
       "      <th>3</th>\n",
       "      <td>608324</td>\n",
       "      <td>Bregman, Alex</td>\n",
       "    </tr>\n",
       "    <tr>\n",
       "      <th>4</th>\n",
       "      <td>518542</td>\n",
       "      <td>Centeno, Juan</td>\n",
       "    </tr>\n",
       "  </tbody>\n",
       "</table>\n",
       "</div>"
      ],
      "text/plain": [
       "   key_mlbam      player_name\n",
       "0     514888     Altuve, Jose\n",
       "1     493114       Aoki, Nori\n",
       "2     136860  Beltran, Carlos\n",
       "3     608324    Bregman, Alex\n",
       "4     518542    Centeno, Juan"
      ]
     },
     "execution_count": 18,
     "metadata": {},
     "output_type": "execute_result"
    }
   ],
   "source": [
    "names.head()"
   ]
  },
  {
   "cell_type": "code",
   "execution_count": 19,
   "id": "c5994426",
   "metadata": {},
   "outputs": [],
   "source": [
    "names = names.set_index('key_mlbam').T.to_dict('list')"
   ]
  },
  {
   "cell_type": "code",
   "execution_count": 20,
   "id": "5471ebd6",
   "metadata": {},
   "outputs": [],
   "source": [
    "for i in names:\n",
    "    names[i] = str(names[i])[2:-2]"
   ]
  },
  {
   "cell_type": "code",
   "execution_count": 21,
   "id": "5bf11884",
   "metadata": {},
   "outputs": [],
   "source": [
    "# game_pk_490111['player_name'] = game_pk_490111['batter'].map(names)\n",
    "data['player_name'] = data['batter'].map(names)"
   ]
  },
  {
   "cell_type": "code",
   "execution_count": 17,
   "id": "c39036c6",
   "metadata": {},
   "outputs": [],
   "source": [
    "#if you'd like it as an excel sheet, uncomment this. it should appear in the same folder as this file\n",
    "#game_pk_490111.to_excel('game_pk_490111_python.xlsx')"
   ]
  },
  {
   "cell_type": "code",
   "execution_count": 24,
   "id": "20604790",
   "metadata": {
    "collapsed": true
   },
   "outputs": [],
   "source": [
    "# game_pk_490111\n",
    "data.to_csv('astros_2017_home_games.csv', index=False)"
   ]
  },
  {
   "cell_type": "markdown",
   "id": "71a4ad89",
   "metadata": {},
   "source": [
    "And that's it! this is the exact same as the baseball savant data from the baseballr package that I cleaned, but this can be automated."
   ]
  },
  {
   "cell_type": "markdown",
   "id": "6f27e7c2",
   "metadata": {},
   "source": [
    "now, all you have to do is download the MLBAM data for every astros game, this data for every astros game, clean it like this, and then you can put them side by side. then, match up the playID from the MLBAM and sign stealing data to put it all together."
   ]
  },
  {
   "cell_type": "code",
   "execution_count": null,
   "id": "899e3061",
   "metadata": {},
   "outputs": [],
   "source": []
  }
 ],
 "metadata": {
  "kernelspec": {
   "display_name": "Python 3 (ipykernel)",
   "language": "python",
   "name": "python3"
  },
  "language_info": {
   "codemirror_mode": {
    "name": "ipython",
    "version": 3
   },
   "file_extension": ".py",
   "mimetype": "text/x-python",
   "name": "python",
   "nbconvert_exporter": "python",
   "pygments_lexer": "ipython3",
   "version": "3.7.4"
  }
 },
 "nbformat": 4,
 "nbformat_minor": 5
}
